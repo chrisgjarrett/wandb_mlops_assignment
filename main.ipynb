{
 "cells": [
  {
   "cell_type": "code",
   "execution_count": 9,
   "metadata": {},
   "outputs": [],
   "source": [
    "import os\n",
    "from fastai.vision.all import *\n",
    "import zipfile\n",
    "\n",
    "import params as params\n",
    "\n",
    "\n",
    "import wandb\n",
    "\n",
    "from kaggle.api.kaggle_api_extended import KaggleApi\n"
   ]
  },
  {
   "cell_type": "code",
   "execution_count": 10,
   "metadata": {},
   "outputs": [],
   "source": [
    "PATH_TO_DATA = \"data\"\n",
    "DATASET_NAME = 'brian-tumor-dataset'\n",
    "UNZIPPED_NAME = 'Brain Tumor Data Set'\n",
    "TUMOR_SUB_DIR = 'Brain Tumor'\n",
    "HEALTHY_SUB_DIR = 'Healthy'"
   ]
  },
  {
   "cell_type": "code",
   "execution_count": 11,
   "metadata": {},
   "outputs": [],
   "source": [
    "#Get files from kaggle\n",
    "kaggle_api = KaggleApi()\n",
    "kaggle_api.authenticate()\n",
    "\n",
    "if os.path.exists(PATH_TO_DATA) == False:\n",
    "    os.mkdir(PATH_TO_DATA)\n",
    "    \n",
    "kaggle_api.dataset_download_files(os.path.join('preetviradiya',\"brian-tumor-dataset\"), path=PATH_TO_DATA)"
   ]
  },
  {
   "cell_type": "code",
   "execution_count": 12,
   "metadata": {},
   "outputs": [],
   "source": [
    "# Unzip\n",
    "with zipfile.ZipFile(os.path.join(PATH_TO_DATA, DATASET_NAME + \".zip\"), 'r') as zip_ref:\n",
    "    zip_ref.extractall(os.path.join(PATH_TO_DATA))\n"
   ]
  },
  {
   "cell_type": "code",
   "execution_count": 13,
   "metadata": {},
   "outputs": [],
   "source": [
    "\n",
    "def label_func(fname):\n",
    "    return (fname.parent.parent/\"labels\")/f\"{fname.stem}_mask.png\"\n",
    "\n",
    "def get_classes_per_image(mask_data, class_labels):\n",
    "    unique = list(np.unique(mask_data))\n",
    "    result_dict = {}\n",
    "    for _class in class_labels.keys():\n",
    "        result_dict[class_labels[_class]] = int(_class in unique)\n",
    "    return result_dict\n",
    "\n",
    "def _create_table(image_files, classification_label):\n",
    "    \"Create a table with the dataset\"\n",
    "    table = wandb.Table()\n",
    "    \n",
    "    for i, image_file in progress_bar(enumerate(image_files), total=len(image_files)):\n",
    "        image = Image.open(image_file)\n",
    "        table.add_data(\n",
    "            str(image_file.name),\n",
    "            wandb.Image(\n",
    "                    image,\n",
    "            ),\n",
    "            str(classification_label)\n",
    "        )\n",
    "    "
   ]
  },
  {
   "cell_type": "code",
   "execution_count": 14,
   "metadata": {},
   "outputs": [
    {
     "data": {
      "text/html": [
       "Finishing last run (ID:wp2ralcw) before initializing another..."
      ],
      "text/plain": [
       "<IPython.core.display.HTML object>"
      ]
     },
     "metadata": {},
     "output_type": "display_data"
    },
    {
     "data": {
      "text/html": [
       "Waiting for W&B process to finish... <strong style=\"color:green\">(success).</strong>"
      ],
      "text/plain": [
       "<IPython.core.display.HTML object>"
      ]
     },
     "metadata": {},
     "output_type": "display_data"
    },
    {
     "data": {
      "application/vnd.jupyter.widget-view+json": {
       "model_id": "f3716708f601444ea07ffa07a0c6086a",
       "version_major": 2,
       "version_minor": 0
      },
      "text/plain": [
       "VBox(children=(Label(value='0.001 MB of 0.001 MB uploaded (0.000 MB deduped)\\r'), FloatProgress(value=1.0, max…"
      ]
     },
     "metadata": {},
     "output_type": "display_data"
    },
    {
     "data": {
      "text/html": [
       " View run <strong style=\"color:#cdcd00\">kind-darkness-11</strong> at: <a href='https://wandb.ai/chrisgjarrett/mlops-course-assignment/runs/wp2ralcw' target=\"_blank\">https://wandb.ai/chrisgjarrett/mlops-course-assignment/runs/wp2ralcw</a><br/>Synced 5 W&B file(s), 0 media file(s), 0 artifact file(s) and 0 other file(s)"
      ],
      "text/plain": [
       "<IPython.core.display.HTML object>"
      ]
     },
     "metadata": {},
     "output_type": "display_data"
    },
    {
     "data": {
      "text/html": [
       "Find logs at: <code>./wandb/run-20230227_212027-wp2ralcw/logs</code>"
      ],
      "text/plain": [
       "<IPython.core.display.HTML object>"
      ]
     },
     "metadata": {},
     "output_type": "display_data"
    },
    {
     "data": {
      "text/html": [
       "Successfully finished last run (ID:wp2ralcw). Initializing new run:<br/>"
      ],
      "text/plain": [
       "<IPython.core.display.HTML object>"
      ]
     },
     "metadata": {},
     "output_type": "display_data"
    },
    {
     "data": {
      "application/vnd.jupyter.widget-view+json": {
       "model_id": "5bc6fb91bf2a4da3a50c446a6ac67041",
       "version_major": 2,
       "version_minor": 0
      },
      "text/plain": [
       "VBox(children=(Label(value='Waiting for wandb.init()...\\r'), FloatProgress(value=0.01675146320000002, max=1.0)…"
      ]
     },
     "metadata": {},
     "output_type": "display_data"
    },
    {
     "data": {
      "text/html": [
       "Tracking run with wandb version 0.13.10"
      ],
      "text/plain": [
       "<IPython.core.display.HTML object>"
      ]
     },
     "metadata": {},
     "output_type": "display_data"
    },
    {
     "data": {
      "text/html": [
       "Run data is saved locally in <code>/Users/chrisjarrett/Documents/Personal/Data Projects/wandb_mlops_assignment/wandb/run-20230227_212041-knchfvo4</code>"
      ],
      "text/plain": [
       "<IPython.core.display.HTML object>"
      ]
     },
     "metadata": {},
     "output_type": "display_data"
    },
    {
     "data": {
      "text/html": [
       "Syncing run <strong><a href='https://wandb.ai/chrisgjarrett/mlops-course-assignment/runs/knchfvo4' target=\"_blank\">brisk-wave-12</a></strong> to <a href='https://wandb.ai/chrisgjarrett/mlops-course-assignment' target=\"_blank\">Weights & Biases</a> (<a href='https://wandb.me/run' target=\"_blank\">docs</a>)<br/>"
      ],
      "text/plain": [
       "<IPython.core.display.HTML object>"
      ]
     },
     "metadata": {},
     "output_type": "display_data"
    },
    {
     "data": {
      "text/html": [
       " View project at <a href='https://wandb.ai/chrisgjarrett/mlops-course-assignment' target=\"_blank\">https://wandb.ai/chrisgjarrett/mlops-course-assignment</a>"
      ],
      "text/plain": [
       "<IPython.core.display.HTML object>"
      ]
     },
     "metadata": {},
     "output_type": "display_data"
    },
    {
     "data": {
      "text/html": [
       " View run at <a href='https://wandb.ai/chrisgjarrett/mlops-course-assignment/runs/knchfvo4' target=\"_blank\">https://wandb.ai/chrisgjarrett/mlops-course-assignment/runs/knchfvo4</a>"
      ],
      "text/plain": [
       "<IPython.core.display.HTML object>"
      ]
     },
     "metadata": {},
     "output_type": "display_data"
    }
   ],
   "source": [
    "run = wandb.init(project=params.WANDB_PROJECT, entity=params.ENTITY, job_type=\"upload\")\n",
    "raw_data_at = wandb.Artifact(params.RAW_DATA_AT, type=\"raw_data\")"
   ]
  },
  {
   "cell_type": "code",
   "execution_count": 15,
   "metadata": {},
   "outputs": [],
   "source": [
    "tumour_files = get_image_files(os.path.join(PATH_TO_DATA,UNZIPPED_NAME,UNZIPPED_NAME,TUMOR_SUB_DIR), recurse=False)\n",
    "healthy_files = get_image_files(os.path.join(PATH_TO_DATA,UNZIPPED_NAME,UNZIPPED_NAME,HEALTHY_SUB_DIR), recurse=False)"
   ]
  },
  {
   "cell_type": "code",
   "execution_count": 24,
   "metadata": {},
   "outputs": [
    {
     "data": {
      "text/html": [
       "\n",
       "    <div>\n",
       "      <progress value='2512' class='' max='2521' style='width:300px; height:20px; vertical-align: middle;'></progress>\n",
       "      99.64% [2512/2521 01:30&lt;00:00]\n",
       "    </div>\n",
       "    "
      ],
      "text/plain": [
       "<IPython.core.display.HTML object>"
      ]
     },
     "metadata": {},
     "output_type": "display_data"
    },
    {
     "ename": "AttributeError",
     "evalue": "'list' object has no attribute 'read'",
     "output_type": "error",
     "traceback": [
      "\u001b[0;31m---------------------------------------------------------------------------\u001b[0m",
      "\u001b[0;31mAttributeError\u001b[0m                            Traceback (most recent call last)",
      "File \u001b[0;32m/opt/miniconda3/envs/wandb_course/lib/python3.8/site-packages/PIL/Image.py:3231\u001b[0m, in \u001b[0;36mopen\u001b[0;34m(fp, mode, formats)\u001b[0m\n\u001b[1;32m   3230\u001b[0m \u001b[39mtry\u001b[39;00m:\n\u001b[0;32m-> 3231\u001b[0m     fp\u001b[39m.\u001b[39;49mseek(\u001b[39m0\u001b[39m)\n\u001b[1;32m   3232\u001b[0m \u001b[39mexcept\u001b[39;00m (\u001b[39mAttributeError\u001b[39;00m, io\u001b[39m.\u001b[39mUnsupportedOperation):\n",
      "File \u001b[0;32m/opt/miniconda3/envs/wandb_course/lib/python3.8/site-packages/fastcore/basics.py:496\u001b[0m, in \u001b[0;36mGetAttr.__getattr__\u001b[0;34m(self, k)\u001b[0m\n\u001b[1;32m    495\u001b[0m     attr \u001b[39m=\u001b[39m \u001b[39mgetattr\u001b[39m(\u001b[39mself\u001b[39m,\u001b[39mself\u001b[39m\u001b[39m.\u001b[39m_default,\u001b[39mNone\u001b[39;00m)\n\u001b[0;32m--> 496\u001b[0m     \u001b[39mif\u001b[39;00m attr \u001b[39mis\u001b[39;00m \u001b[39mnot\u001b[39;00m \u001b[39mNone\u001b[39;00m: \u001b[39mreturn\u001b[39;00m \u001b[39mgetattr\u001b[39;49m(attr,k)\n\u001b[1;32m    497\u001b[0m \u001b[39mraise\u001b[39;00m \u001b[39mAttributeError\u001b[39;00m(k)\n",
      "\u001b[0;31mAttributeError\u001b[0m: 'list' object has no attribute 'seek'",
      "\nDuring handling of the above exception, another exception occurred:\n",
      "\u001b[0;31mAttributeError\u001b[0m                            Traceback (most recent call last)",
      "Cell \u001b[0;32mIn[24], line 10\u001b[0m\n\u001b[1;32m      7\u001b[0m all_files\u001b[39m.\u001b[39mappend(healthy_files)\n\u001b[1;32m      9\u001b[0m \u001b[39m# Create table\u001b[39;00m\n\u001b[0;32m---> 10\u001b[0m image_table \u001b[39m=\u001b[39m _create_table(all_files, labels)\n\u001b[1;32m     12\u001b[0m raw_data_at\u001b[39m.\u001b[39madd(image_table, \u001b[39m\"\u001b[39m\u001b[39meda_table\u001b[39m\u001b[39m\"\u001b[39m)\n\u001b[1;32m     13\u001b[0m run\u001b[39m.\u001b[39mlog_artifact(raw_data_at)\n",
      "Cell \u001b[0;32mIn[13], line 16\u001b[0m, in \u001b[0;36m_create_table\u001b[0;34m(image_files, classification_label)\u001b[0m\n\u001b[1;32m     13\u001b[0m table \u001b[39m=\u001b[39m wandb\u001b[39m.\u001b[39mTable()\n\u001b[1;32m     15\u001b[0m \u001b[39mfor\u001b[39;00m i, image_file \u001b[39min\u001b[39;00m progress_bar(\u001b[39menumerate\u001b[39m(image_files), total\u001b[39m=\u001b[39m\u001b[39mlen\u001b[39m(image_files)):\n\u001b[0;32m---> 16\u001b[0m     image \u001b[39m=\u001b[39m Image\u001b[39m.\u001b[39;49mopen(image_file)\n\u001b[1;32m     17\u001b[0m     table\u001b[39m.\u001b[39madd_data(\n\u001b[1;32m     18\u001b[0m         \u001b[39mstr\u001b[39m(image_file\u001b[39m.\u001b[39mname),\n\u001b[1;32m     19\u001b[0m         wandb\u001b[39m.\u001b[39mImage(\n\u001b[0;32m   (...)\u001b[0m\n\u001b[1;32m     22\u001b[0m         \u001b[39mstr\u001b[39m(classification_label)\n\u001b[1;32m     23\u001b[0m     )\n",
      "File \u001b[0;32m/opt/miniconda3/envs/wandb_course/lib/python3.8/site-packages/PIL/Image.py:3233\u001b[0m, in \u001b[0;36mopen\u001b[0;34m(fp, mode, formats)\u001b[0m\n\u001b[1;32m   3231\u001b[0m     fp\u001b[39m.\u001b[39mseek(\u001b[39m0\u001b[39m)\n\u001b[1;32m   3232\u001b[0m \u001b[39mexcept\u001b[39;00m (\u001b[39mAttributeError\u001b[39;00m, io\u001b[39m.\u001b[39mUnsupportedOperation):\n\u001b[0;32m-> 3233\u001b[0m     fp \u001b[39m=\u001b[39m io\u001b[39m.\u001b[39mBytesIO(fp\u001b[39m.\u001b[39;49mread())\n\u001b[1;32m   3234\u001b[0m     exclusive_fp \u001b[39m=\u001b[39m \u001b[39mTrue\u001b[39;00m\n\u001b[1;32m   3236\u001b[0m prefix \u001b[39m=\u001b[39m fp\u001b[39m.\u001b[39mread(\u001b[39m16\u001b[39m)\n",
      "File \u001b[0;32m/opt/miniconda3/envs/wandb_course/lib/python3.8/site-packages/fastcore/basics.py:496\u001b[0m, in \u001b[0;36mGetAttr.__getattr__\u001b[0;34m(self, k)\u001b[0m\n\u001b[1;32m    494\u001b[0m \u001b[39mif\u001b[39;00m \u001b[39mself\u001b[39m\u001b[39m.\u001b[39m_component_attr_filter(k):\n\u001b[1;32m    495\u001b[0m     attr \u001b[39m=\u001b[39m \u001b[39mgetattr\u001b[39m(\u001b[39mself\u001b[39m,\u001b[39mself\u001b[39m\u001b[39m.\u001b[39m_default,\u001b[39mNone\u001b[39;00m)\n\u001b[0;32m--> 496\u001b[0m     \u001b[39mif\u001b[39;00m attr \u001b[39mis\u001b[39;00m \u001b[39mnot\u001b[39;00m \u001b[39mNone\u001b[39;00m: \u001b[39mreturn\u001b[39;00m \u001b[39mgetattr\u001b[39;49m(attr,k)\n\u001b[1;32m    497\u001b[0m \u001b[39mraise\u001b[39;00m \u001b[39mAttributeError\u001b[39;00m(k)\n",
      "\u001b[0;31mAttributeError\u001b[0m: 'list' object has no attribute 'read'"
     ]
    }
   ],
   "source": [
    "# Create labels\n",
    "labels = [\"0\"] * len(healthy_files)\n",
    "labels.append([\"1\"] * len(tumour_files))\n",
    "\n",
    "# Generate files list\n",
    "all_files = tumour_files.copy()\n",
    "all_files.append(healthy_files)\n",
    "\n",
    "# Create table\n",
    "image_table = _create_table(all_files, labels)\n",
    "\n",
    "raw_data_at.add(image_table, \"eda_table\")\n",
    "run.log_artifact(raw_data_at)\n",
    "run.finish()"
   ]
  }
 ],
 "metadata": {
  "kernelspec": {
   "display_name": "wandb_course",
   "language": "python",
   "name": "python3"
  },
  "language_info": {
   "codemirror_mode": {
    "name": "ipython",
    "version": 3
   },
   "file_extension": ".py",
   "mimetype": "text/x-python",
   "name": "python",
   "nbconvert_exporter": "python",
   "pygments_lexer": "ipython3",
   "version": "3.8.16"
  },
  "orig_nbformat": 4,
  "vscode": {
   "interpreter": {
    "hash": "32b693ab92d819577db481632b0f8d060b4e49b728e66429591a1167cf08cfc8"
   }
  }
 },
 "nbformat": 4,
 "nbformat_minor": 2
}
