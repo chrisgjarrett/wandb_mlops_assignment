{
 "cells": [
  {
   "cell_type": "code",
   "execution_count": 1,
   "metadata": {},
   "outputs": [],
   "source": [
    "import os\n",
    "from fastai.vision.all import *\n",
    "import zipfile\n",
    "\n",
    "import params as params\n",
    "\n",
    "\n",
    "import wandb\n",
    "\n",
    "from kaggle.api.kaggle_api_extended import KaggleApi\n"
   ]
  },
  {
   "cell_type": "code",
   "execution_count": 2,
   "metadata": {},
   "outputs": [],
   "source": [
    "PATH_TO_DATA = \"data\"\n",
    "DATASET_NAME = 'brian-tumor-dataset'\n",
    "UNZIPPED_NAME = 'Brain Tumor Data Set'\n",
    "TUMOR_SUB_DIR = 'Brain Tumor'\n",
    "HEALTHY_SUB_DIR = 'Healthy'"
   ]
  },
  {
   "cell_type": "code",
   "execution_count": 3,
   "metadata": {},
   "outputs": [],
   "source": [
    "#Get files from kaggle\n",
    "kaggle_api = KaggleApi()\n",
    "kaggle_api.authenticate()\n",
    "\n",
    "if os.path.exists(PATH_TO_DATA) == False:\n",
    "    os.mkdir(PATH_TO_DATA)\n",
    "    \n",
    "kaggle_api.dataset_download_files(os.path.join('preetviradiya',\"brian-tumor-dataset\"), path=PATH_TO_DATA)"
   ]
  },
  {
   "cell_type": "code",
   "execution_count": 4,
   "metadata": {},
   "outputs": [],
   "source": [
    "# Unzip\n",
    "with zipfile.ZipFile(os.path.join(PATH_TO_DATA, DATASET_NAME + \".zip\"), 'r') as zip_ref:\n",
    "    zip_ref.extractall(os.path.join(PATH_TO_DATA))\n"
   ]
  },
  {
   "cell_type": "code",
   "execution_count": 5,
   "metadata": {},
   "outputs": [],
   "source": [
    "\n",
    "def label_func(fname):\n",
    "    return (fname.parent.parent/\"labels\")/f\"{fname.stem}_mask.png\"\n",
    "\n",
    "def get_classes_per_image(mask_data, class_labels):\n",
    "    unique = list(np.unique(mask_data))\n",
    "    result_dict = {}\n",
    "    for _class in class_labels.keys():\n",
    "        result_dict[class_labels[_class]] = int(_class in unique)\n",
    "    return result_dict\n",
    "\n",
    "def _create_table(image_files, classification_label):\n",
    "    \"Create a table with the dataset\"\n",
    "    table = wandb.Table()\n",
    "    \n",
    "    for i, image_file in progress_bar(enumerate(image_files), total=len(image_files)):\n",
    "        image = Image.open(image_file)\n",
    "        table.add_data(\n",
    "            str(image_file.name),\n",
    "            wandb.Image(\n",
    "                    image,\n",
    "            ),\n",
    "            str(classification_label)\n",
    "        )\n",
    "    "
   ]
  },
  {
   "cell_type": "code",
   "execution_count": 6,
   "metadata": {},
   "outputs": [
    {
     "name": "stderr",
     "output_type": "stream",
     "text": [
      "\u001b[34m\u001b[1mwandb\u001b[0m: Currently logged in as: \u001b[33mchrisgjarrett\u001b[0m. Use \u001b[1m`wandb login --relogin`\u001b[0m to force relogin\n"
     ]
    },
    {
     "data": {
      "text/html": [
       "Tracking run with wandb version 0.13.10"
      ],
      "text/plain": [
       "<IPython.core.display.HTML object>"
      ]
     },
     "metadata": {},
     "output_type": "display_data"
    },
    {
     "data": {
      "text/html": [
       "Run data is saved locally in <code>/Users/chrisjarrett/Documents/Personal/Data Projects/wandb_mlops_assignment/wandb/run-20230302_204253-prthw902</code>"
      ],
      "text/plain": [
       "<IPython.core.display.HTML object>"
      ]
     },
     "metadata": {},
     "output_type": "display_data"
    },
    {
     "data": {
      "text/html": [
       "Syncing run <strong><a href='https://wandb.ai/chrisgjarrett/mlops-course-assignment/runs/prthw902' target=\"_blank\">restful-thunder-43</a></strong> to <a href='https://wandb.ai/chrisgjarrett/mlops-course-assignment' target=\"_blank\">Weights & Biases</a> (<a href='https://wandb.me/run' target=\"_blank\">docs</a>)<br/>"
      ],
      "text/plain": [
       "<IPython.core.display.HTML object>"
      ]
     },
     "metadata": {},
     "output_type": "display_data"
    },
    {
     "data": {
      "text/html": [
       " View project at <a href='https://wandb.ai/chrisgjarrett/mlops-course-assignment' target=\"_blank\">https://wandb.ai/chrisgjarrett/mlops-course-assignment</a>"
      ],
      "text/plain": [
       "<IPython.core.display.HTML object>"
      ]
     },
     "metadata": {},
     "output_type": "display_data"
    },
    {
     "data": {
      "text/html": [
       " View run at <a href='https://wandb.ai/chrisgjarrett/mlops-course-assignment/runs/prthw902' target=\"_blank\">https://wandb.ai/chrisgjarrett/mlops-course-assignment/runs/prthw902</a>"
      ],
      "text/plain": [
       "<IPython.core.display.HTML object>"
      ]
     },
     "metadata": {},
     "output_type": "display_data"
    }
   ],
   "source": [
    "run = wandb.init(project=params.WANDB_PROJECT, entity=params.ENTITY, job_type=\"upload\")\n",
    "raw_data_at = wandb.Artifact(params.RAW_DATA_AT, type=\"raw_data\")"
   ]
  },
  {
   "cell_type": "code",
   "execution_count": 7,
   "metadata": {},
   "outputs": [],
   "source": [
    "tumour_files = get_image_files(os.path.join(PATH_TO_DATA,UNZIPPED_NAME,UNZIPPED_NAME,TUMOR_SUB_DIR), recurse=False)\n",
    "healthy_files = get_image_files(os.path.join(PATH_TO_DATA,UNZIPPED_NAME,UNZIPPED_NAME,HEALTHY_SUB_DIR), recurse=False)"
   ]
  },
  {
   "cell_type": "code",
   "execution_count": 8,
   "metadata": {},
   "outputs": [],
   "source": [
    "# Create labels\n",
    "labels = [\"0\"] * len(healthy_files)\n",
    "labels.append([\"1\"] * len(tumour_files))\n",
    "\n",
    "# Generate files list\n",
    "all_files = tumour_files.copy()\n",
    "all_files.append(healthy_files)\n",
    "\n",
    "image_table = wandb.Table(columns=[\"Filename\", \"Image\", \"Class\"])\n",
    "\n",
    "# Healthy images\n",
    "for i, image_file in progress_bar(enumerate(healthy_files), total=len(healthy_files)):\n",
    "    image = Image.open(image_file)\n",
    "    image_table.add_data(\n",
    "        str(image_file.name),\n",
    "        wandb.Image(\n",
    "                image,\n",
    "        ),\n",
    "        str(params.CLASSES[0])\n",
    "    )\n",
    "\n",
    "# Tumour images\n",
    "for i, image_file in progress_bar(enumerate(tumour_files), total=len(tumour_files)):\n",
    "    image = Image.open(image_file)\n",
    "    image_table.add_data(\n",
    "        str(image_file.name),\n",
    "        wandb.Image(\n",
    "                image,\n",
    "        ),\n",
    "        str(params.CLASSES[1])\n",
    "    )"
   ]
  },
  {
   "cell_type": "code",
   "execution_count": 9,
   "metadata": {},
   "outputs": [
    {
     "name": "stderr",
     "output_type": "stream",
     "text": [
      "\u001b[34m\u001b[1mwandb\u001b[0m: Adding directory to artifact (./data/Brain Tumor Data Set/Brain Tumor Data Set/Healthy)... Done. 0.7s\n",
      "\u001b[34m\u001b[1mwandb\u001b[0m: Adding directory to artifact (./data/Brain Tumor Data Set/Brain Tumor Data Set/Brain Tumor)... Done. 0.8s\n"
     ]
    },
    {
     "data": {
      "text/plain": [
       "ArtifactManifestEntry(path='eda_table.table.json', digest='WfMP7GD4pVV4WxbN4aXePQ==', ref=None, birth_artifact_id=None, size=1071105, extra={}, local_path='/Users/chrisjarrett/Library/Application Support/wandb/artifacts/staging/tmpa5mbokb7')"
      ]
     },
     "execution_count": 9,
     "metadata": {},
     "output_type": "execute_result"
    }
   ],
   "source": [
    "# # Create table\n",
    "# image_table = _create_table(all_files, labels)\n",
    "raw_data_at.add_dir(os.path.join(PATH_TO_DATA,UNZIPPED_NAME,UNZIPPED_NAME,HEALTHY_SUB_DIR), name=\"images\")\n",
    "raw_data_at.add_dir(os.path.join(PATH_TO_DATA,UNZIPPED_NAME,UNZIPPED_NAME,TUMOR_SUB_DIR), name=\"images\")\n",
    "raw_data_at.add(image_table, \"eda_table\")"
   ]
  },
  {
   "cell_type": "code",
   "execution_count": 10,
   "metadata": {},
   "outputs": [
    {
     "data": {
      "text/html": [
       "Waiting for W&B process to finish... <strong style=\"color:green\">(success).</strong>"
      ],
      "text/plain": [
       "<IPython.core.display.HTML object>"
      ]
     },
     "metadata": {},
     "output_type": "display_data"
    },
    {
     "data": {
      "text/html": [
       " View run <strong style=\"color:#cdcd00\">restful-thunder-43</strong> at: <a href='https://wandb.ai/chrisgjarrett/mlops-course-assignment/runs/prthw902' target=\"_blank\">https://wandb.ai/chrisgjarrett/mlops-course-assignment/runs/prthw902</a><br/>Synced 6 W&B file(s), 0 media file(s), 8616 artifact file(s) and 0 other file(s)"
      ],
      "text/plain": [
       "<IPython.core.display.HTML object>"
      ]
     },
     "metadata": {},
     "output_type": "display_data"
    },
    {
     "data": {
      "text/html": [
       "Find logs at: <code>./wandb/run-20230302_204253-prthw902/logs</code>"
      ],
      "text/plain": [
       "<IPython.core.display.HTML object>"
      ]
     },
     "metadata": {},
     "output_type": "display_data"
    }
   ],
   "source": [
    "run.log_artifact(raw_data_at)\n",
    "run.finish()"
   ]
  }
 ],
 "metadata": {
  "kernelspec": {
   "display_name": "wandb_course",
   "language": "python",
   "name": "python3"
  },
  "language_info": {
   "codemirror_mode": {
    "name": "ipython",
    "version": 3
   },
   "file_extension": ".py",
   "mimetype": "text/x-python",
   "name": "python",
   "nbconvert_exporter": "python",
   "pygments_lexer": "ipython3",
   "version": "3.8.16"
  },
  "orig_nbformat": 4,
  "vscode": {
   "interpreter": {
    "hash": "32b693ab92d819577db481632b0f8d060b4e49b728e66429591a1167cf08cfc8"
   }
  }
 },
 "nbformat": 4,
 "nbformat_minor": 2
}
