{
 "cells": [
  {
   "cell_type": "code",
   "execution_count": 52,
   "metadata": {},
   "outputs": [],
   "source": [
    "import os, warnings\n",
    "import wandb\n",
    "\n",
    "import pandas as pd\n",
    "from fastai.vision.all import *\n",
    "from sklearn.model_selection import StratifiedKFold\n",
    "\n",
    "import params\n",
    "warnings.filterwarnings('ignore')"
   ]
  },
  {
   "cell_type": "code",
   "execution_count": 53,
   "metadata": {},
   "outputs": [
    {
     "data": {
      "text/html": [
       "Tracking run with wandb version 0.13.10"
      ],
      "text/plain": [
       "<IPython.core.display.HTML object>"
      ]
     },
     "metadata": {},
     "output_type": "display_data"
    },
    {
     "data": {
      "text/html": [
       "Run data is saved locally in <code>/Users/chrisjarrett/Documents/Personal/Data Projects/wandb_mlops_assignment/wandb/run-20230302_211700-ojwgskeq</code>"
      ],
      "text/plain": [
       "<IPython.core.display.HTML object>"
      ]
     },
     "metadata": {},
     "output_type": "display_data"
    },
    {
     "data": {
      "text/html": [
       "Syncing run <strong><a href='https://wandb.ai/chrisgjarrett/mlops-course-assignment/runs/ojwgskeq' target=\"_blank\">rich-dawn-52</a></strong> to <a href='https://wandb.ai/chrisgjarrett/mlops-course-assignment' target=\"_blank\">Weights & Biases</a> (<a href='https://wandb.me/run' target=\"_blank\">docs</a>)<br/>"
      ],
      "text/plain": [
       "<IPython.core.display.HTML object>"
      ]
     },
     "metadata": {},
     "output_type": "display_data"
    },
    {
     "data": {
      "text/html": [
       " View project at <a href='https://wandb.ai/chrisgjarrett/mlops-course-assignment' target=\"_blank\">https://wandb.ai/chrisgjarrett/mlops-course-assignment</a>"
      ],
      "text/plain": [
       "<IPython.core.display.HTML object>"
      ]
     },
     "metadata": {},
     "output_type": "display_data"
    },
    {
     "data": {
      "text/html": [
       " View run at <a href='https://wandb.ai/chrisgjarrett/mlops-course-assignment/runs/ojwgskeq' target=\"_blank\">https://wandb.ai/chrisgjarrett/mlops-course-assignment/runs/ojwgskeq</a>"
      ],
      "text/plain": [
       "<IPython.core.display.HTML object>"
      ]
     },
     "metadata": {},
     "output_type": "display_data"
    }
   ],
   "source": [
    "run = wandb.init(project=params.WANDB_PROJECT, entity=params.ENTITY, job_type=\"data_split\")"
   ]
  },
  {
   "cell_type": "code",
   "execution_count": 54,
   "metadata": {},
   "outputs": [
    {
     "name": "stderr",
     "output_type": "stream",
     "text": [
      "\u001b[34m\u001b[1mwandb\u001b[0m: Downloading large artifact raw_data_at:latest, 557.13MB. 8616 files... \n",
      "\u001b[34m\u001b[1mwandb\u001b[0m:   8616 of 8616 files downloaded.  \n",
      "Done. 0:0:0.6\n"
     ]
    }
   ],
   "source": [
    "raw_data_at = run.use_artifact(f'{params.RAW_DATA_AT}:latest')\n",
    "path = Path(raw_data_at.download())"
   ]
  },
  {
   "cell_type": "code",
   "execution_count": 55,
   "metadata": {},
   "outputs": [
    {
     "data": {
      "text/plain": [
       "(#3) [Path('artifacts/raw_data_at:v6/images'),Path('artifacts/raw_data_at:v6/eda_table.table.json'),Path('artifacts/raw_data_at:v6/media')]"
      ]
     },
     "execution_count": 55,
     "metadata": {},
     "output_type": "execute_result"
    }
   ],
   "source": [
    "path.ls()"
   ]
  },
  {
   "attachments": {},
   "cell_type": "markdown",
   "metadata": {},
   "source": [
    "Get the original table from the EDA phase"
   ]
  },
  {
   "cell_type": "code",
   "execution_count": 56,
   "metadata": {},
   "outputs": [
    {
     "name": "stderr",
     "output_type": "stream",
     "text": [
      "\u001b[34m\u001b[1mwandb\u001b[0m: Downloading large artifact raw_data_at:latest, 557.13MB. 8616 files... \n",
      "\u001b[34m\u001b[1mwandb\u001b[0m:   8616 of 8616 files downloaded.  \n",
      "Done. 0:0:0.7\n"
     ]
    }
   ],
   "source": [
    "orig_eda_table = raw_data_at.get(\"eda_table\")"
   ]
  },
  {
   "cell_type": "code",
   "execution_count": 63,
   "metadata": {},
   "outputs": [],
   "source": [
    "fnames = os.listdir(path/\"media\"/\"images\")\n",
    "groups = fnames"
   ]
  },
  {
   "attachments": {},
   "cell_type": "markdown",
   "metadata": {},
   "source": [
    "Let's get the target variable and call it y"
   ]
  },
  {
   "cell_type": "code",
   "execution_count": 64,
   "metadata": {},
   "outputs": [],
   "source": [
    "y = orig_eda_table.get_column('Class')"
   ]
  },
  {
   "cell_type": "code",
   "execution_count": 65,
   "metadata": {},
   "outputs": [],
   "source": [
    "df = pd.DataFrame()\n",
    "df['Filename'] = orig_eda_table.get_column('Filename')\n",
    "df['Class'] = orig_eda_table.get_column('Class')\n",
    "df['fold'] = -1"
   ]
  },
  {
   "cell_type": "code",
   "execution_count": 66,
   "metadata": {},
   "outputs": [],
   "source": [
    "cv = StratifiedKFold(n_splits=10)\n",
    "for i, (train_idxs, test_idxs) in enumerate(cv.split(df['Filename'], y)):\n",
    "    df.loc[test_idxs, ['fold']] = i"
   ]
  },
  {
   "cell_type": "code",
   "execution_count": 67,
   "metadata": {},
   "outputs": [
    {
     "data": {
      "text/plain": [
       "train    3680\n",
       "test      460\n",
       "valid     460\n",
       "Name: Stage, dtype: int64"
      ]
     },
     "execution_count": 67,
     "metadata": {},
     "output_type": "execute_result"
    }
   ],
   "source": [
    "df['Stage'] = 'train'\n",
    "df.loc[df.fold == 0, ['Stage']] = 'test'\n",
    "df.loc[df.fold == 1, ['Stage']] = 'valid'\n",
    "del df['fold']\n",
    "df.Stage.value_counts()"
   ]
  },
  {
   "cell_type": "code",
   "execution_count": 68,
   "metadata": {},
   "outputs": [],
   "source": [
    "df.to_csv('data_split.csv', index=False)"
   ]
  },
  {
   "cell_type": "code",
   "execution_count": 69,
   "metadata": {},
   "outputs": [
    {
     "name": "stderr",
     "output_type": "stream",
     "text": [
      "\u001b[34m\u001b[1mwandb\u001b[0m: Adding directory to artifact (./artifacts/raw_data_at:v6)... Done. 3.2s\n"
     ]
    }
   ],
   "source": [
    "processed_data_at = wandb.Artifact(params.PROCESSED_DATA_AT, type=\"split_data\")\n",
    "processed_data_at.add_file('data_split.csv')\n",
    "processed_data_at.add_dir(path)"
   ]
  },
  {
   "cell_type": "code",
   "execution_count": 70,
   "metadata": {},
   "outputs": [
    {
     "data": {
      "text/plain": [
       "ArtifactManifestEntry(path='eda_table_data_split.joined-table.json', digest='vQAz34WVE8mZUVJM684GJA==', ref=None, birth_artifact_id=None, size=122, extra={}, local_path='/Users/chrisjarrett/Library/Application Support/wandb/artifacts/staging/tmpbqljoepi')"
      ]
     },
     "execution_count": 70,
     "metadata": {},
     "output_type": "execute_result"
    }
   ],
   "source": [
    "data_split_table = wandb.Table(dataframe=df[['Filename', 'Stage']])\n",
    "join_table = wandb.JoinedTable(orig_eda_table, data_split_table, \"Filename\")\n",
    "\n",
    "# Add to artifact\n",
    "processed_data_at.add(join_table, \"eda_table_data_split\")"
   ]
  },
  {
   "cell_type": "code",
   "execution_count": 50,
   "metadata": {},
   "outputs": [
    {
     "data": {
      "text/html": [
       "Waiting for W&B process to finish... <strong style=\"color:green\">(success).</strong>"
      ],
      "text/plain": [
       "<IPython.core.display.HTML object>"
      ]
     },
     "metadata": {},
     "output_type": "display_data"
    },
    {
     "data": {
      "text/html": [
       " View run <strong style=\"color:#cdcd00\">sparkling-breeze-51</strong> at: <a href='https://wandb.ai/chrisgjarrett/mlops-course-assignment/runs/bkn97li2' target=\"_blank\">https://wandb.ai/chrisgjarrett/mlops-course-assignment/runs/bkn97li2</a><br/>Synced 6 W&B file(s), 0 media file(s), 8618 artifact file(s) and 0 other file(s)"
      ],
      "text/plain": [
       "<IPython.core.display.HTML object>"
      ]
     },
     "metadata": {},
     "output_type": "display_data"
    },
    {
     "data": {
      "text/html": [
       "Find logs at: <code>./wandb/run-20230302_211323-bkn97li2/logs</code>"
      ],
      "text/plain": [
       "<IPython.core.display.HTML object>"
      ]
     },
     "metadata": {},
     "output_type": "display_data"
    }
   ],
   "source": [
    "run.log_artifact(processed_data_at)\n",
    "run.finish()"
   ]
  },
  {
   "cell_type": "markdown",
   "metadata": {},
   "source": []
  }
 ],
 "metadata": {
  "kernelspec": {
   "display_name": "wandb_course",
   "language": "python",
   "name": "python3"
  },
  "language_info": {
   "codemirror_mode": {
    "name": "ipython",
    "version": 3
   },
   "file_extension": ".py",
   "mimetype": "text/x-python",
   "name": "python",
   "nbconvert_exporter": "python",
   "pygments_lexer": "ipython3",
   "version": "3.8.16"
  },
  "orig_nbformat": 4,
  "vscode": {
   "interpreter": {
    "hash": "32b693ab92d819577db481632b0f8d060b4e49b728e66429591a1167cf08cfc8"
   }
  }
 },
 "nbformat": 4,
 "nbformat_minor": 2
}
